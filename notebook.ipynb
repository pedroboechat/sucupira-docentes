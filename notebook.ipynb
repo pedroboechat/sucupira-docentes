{
 "cells": [
  {
   "cell_type": "markdown",
   "metadata": {},
   "source": [
    "## Imports"
   ]
  },
  {
   "cell_type": "code",
   "execution_count": null,
   "metadata": {},
   "outputs": [],
   "source": [
    "# Standard\n",
    "import os\n",
    "import re\n",
    "from time import sleep\n",
    "from datetime import datetime as dt\n",
    "\n",
    "# WebDriver\n",
    "from webdriver_manager.firefox import GeckoDriverManager\n",
    "from webdriver_manager.chrome import ChromeDriverManager\n",
    "\n",
    "# Selenium\n",
    "from selenium import webdriver\n",
    "from selenium.common.exceptions import (\n",
    "    NoSuchElementException,\n",
    "    TimeoutException,\n",
    "    StaleElementReferenceException\n",
    ")\n",
    "from selenium.webdriver.common.action_chains import ActionChains\n",
    "from selenium.webdriver.common.by import By\n",
    "from selenium.webdriver.support.ui import WebDriverWait, Select\n",
    "from selenium.webdriver.support import expected_conditions as ec\n",
    "\n",
    "# Others\n",
    "import pandas as pd\n",
    "from bs4 import BeautifulSoup as bs\n",
    "from dotenv import load_dotenv"
   ]
  },
  {
   "cell_type": "markdown",
   "metadata": {},
   "source": [
    "## Configuration"
   ]
  },
  {
   "cell_type": "code",
   "execution_count": null,
   "metadata": {},
   "outputs": [],
   "source": [
    "# Load configuration\n",
    "load_dotenv(\"./CONFIG.cfg\")\n",
    "BROWSER = os.getenv(\"BROWSER\").lower()\n",
    "HEADLESS = os.getenv(\"HEADLESS\").lower() == \"true\"\n",
    "IES_QUERY = os.getenv(\"IES_QUERY\").lower()"
   ]
  },
  {
   "cell_type": "markdown",
   "metadata": {},
   "source": [
    "## WebDriver instance"
   ]
  },
  {
   "cell_type": "code",
   "execution_count": null,
   "metadata": {},
   "outputs": [],
   "source": [
    "if BROWSER == \"firefox\":\n",
    "    # Add headless option\n",
    "    options = webdriver.FirefoxOptions()\n",
    "    options.headless = HEADLESS\n",
    "\n",
    "    # Use service if the WebDriver is not in the PATH\n",
    "    # service = webdriver.firefox.service.Service(\"<PATH/TO/DRIVER>\")\n",
    "    service = webdriver.firefox.service.Service(GeckoDriverManager().install())\n",
    "\n",
    "    driver = webdriver.Firefox(\n",
    "        service=service,\n",
    "        options=options\n",
    "    )\n",
    "\n",
    "    action = ActionChains(driver)\n",
    "elif BROWSER == \"chrome\":\n",
    "    # Add headless option\n",
    "    options = webdriver.ChromeOptions()\n",
    "    options.headless = HEADLESS\n",
    "\n",
    "    # Use service if the WebDriver is not in the PATH\n",
    "    # service = webdriver.chrome.service.Service(\"<PATH/TO/DRIVER>\")\n",
    "    service = webdriver.chrome.service.Service(ChromeDriverManager().install())\n",
    "\n",
    "    driver = webdriver.Chrome(\n",
    "        service=service,\n",
    "        options=options\n",
    "    )\n",
    "\n",
    "    action = ActionChains(driver)\n",
    "else:\n",
    "    raise ValueError(f\"Invalid browser: {BROWSER}\")"
   ]
  },
  {
   "cell_type": "markdown",
   "metadata": {},
   "source": [
    "## Gets SUCUPIRA"
   ]
  },
  {
   "cell_type": "code",
   "execution_count": null,
   "metadata": {},
   "outputs": [],
   "source": [
    "URL = \"https://sucupira.capes.gov.br/sucupira/public/consultas/coleta/docente/listaDocente.xhtml\"\n",
    "driver.get(URL)"
   ]
  },
  {
   "cell_type": "markdown",
   "metadata": {},
   "source": [
    "## Scrape page"
   ]
  },
  {
   "cell_type": "markdown",
   "metadata": {},
   "source": [
    "### 1) Bypass cookie banner"
   ]
  },
  {
   "cell_type": "code",
   "execution_count": null,
   "metadata": {},
   "outputs": [],
   "source": [
    "# Click at cookie banner\n",
    "driver.find_element(\n",
    "    by = By.XPATH,\n",
    "    value = '/html/body/div[5]/div/div/div[2]/button'\n",
    ").click()"
   ]
  },
  {
   "cell_type": "markdown",
   "metadata": {},
   "source": [
    "### 2) Set environment to UFRJ"
   ]
  },
  {
   "cell_type": "code",
   "execution_count": null,
   "metadata": {},
   "outputs": [],
   "source": [
    "# Get Instituição de Ensino Superior input field\n",
    "ies_input = driver.find_element(\n",
    "    by = By.XPATH,\n",
    "    value = '//*[@id=\"form:j_idt30:inst:input\"]'\n",
    ")\n",
    "\n",
    "# Send UFRJ IES code\n",
    "ies_input.send_keys(IES_QUERY)\n",
    "\n",
    "# Wait for options to be clickable\n",
    "_ = WebDriverWait(driver, 10).until(\n",
    "    ec.element_to_be_clickable((\n",
    "        By.XPATH,\n",
    "        '/html/body/form[2]/div/div[1]/div/div/div/fieldset/div[2]/div/div/div/div[2]/select'\n",
    "    ))\n",
    ")\n",
    "\n",
    "# Waits 1 second\n",
    "driver.implicitly_wait(1)\n",
    "sleep(1)\n",
    "\n",
    "# Get IES select element\n",
    "ies_select = Select(driver.find_element(\n",
    "    by = By.XPATH,\n",
    "    value = '//*[@id=\"form:j_idt30:inst:listbox\"]'\n",
    "))\n",
    "\n",
    "# Select first IES\n",
    "ies_select.select_by_index(0)"
   ]
  },
  {
   "cell_type": "markdown",
   "metadata": {},
   "source": [
    "### 3) Initialize important elements"
   ]
  },
  {
   "cell_type": "code",
   "execution_count": null,
   "metadata": {},
   "outputs": [],
   "source": [
    "# Wait for program selection to be clickable\n",
    "_ = WebDriverWait(driver, 10).until(\n",
    "    ec.element_to_be_clickable((\n",
    "        By.XPATH,\n",
    "        '/html/body/form[2]/div/div[1]/div/div/div/fieldset/span[1]/div/div/div/div/select'\n",
    "    ))\n",
    ")\n",
    "\n",
    "# Get program select element\n",
    "program_select = Select(driver.find_element(\n",
    "    by = By.XPATH,\n",
    "    value = '/html/body/form[2]/div/div[1]/div/div/div/fieldset/span[1]/div/div/div/div/select'\n",
    "))"
   ]
  },
  {
   "cell_type": "markdown",
   "metadata": {},
   "source": [
    "### 4) Scrape elements"
   ]
  },
  {
   "cell_type": "code",
   "execution_count": null,
   "metadata": {},
   "outputs": [],
   "source": [
    "# Create empty results DataFrame\n",
    "professors_df = pd.DataFrame()\n",
    "\n",
    "# Number of programs for this IES\n",
    "number_of_programs = len(program_select.options)\n",
    "print(\"Number of programs:\", number_of_programs - 1)\n",
    "if number_of_programs < 2:\n",
    "    raise ValueError(\"Error parsing programs\")\n",
    "\n",
    "# Get every program data\n",
    "for index in range(1, len(program_select.options)):\n",
    "    # Get program select element\n",
    "    program_select = Select(driver.find_element(\n",
    "        by = By.XPATH,\n",
    "        value = '/html/body/form[2]/div/div[1]/div/div/div/fieldset/span[1]/div/div/div/div/select'\n",
    "    ))\n",
    "\n",
    "    # Get program search button\n",
    "    search_button = driver.find_element(\n",
    "        by = By.XPATH,\n",
    "        value = '//*[@id=\"form:consultar\"]'\n",
    "    )\n",
    "\n",
    "    # Select program by index\n",
    "    program_select.select_by_index(index)\n",
    "\n",
    "    # Get program raw information\n",
    "    program_info = program_select.first_selected_option.text\n",
    "\n",
    "    # Click search button\n",
    "    driver.execute_script(\"arguments[0].click();\", search_button)\n",
    "\n",
    "    # Initialize page selector variable\n",
    "    page_selector = None\n",
    "\n",
    "    # Check whether there are results and get page selector element\n",
    "    while True:\n",
    "        try:\n",
    "            page_selector = Select(WebDriverWait(driver, 3).until(\n",
    "                ec.element_to_be_clickable((\n",
    "                    By.XPATH,\n",
    "                    '//select[@id=\"form:j_idt77:j_idt84\"]'\n",
    "                ))\n",
    "            ))\n",
    "            break\n",
    "        except (NoSuchElementException, TimeoutException):\n",
    "            print(index, \"is empty...\")\n",
    "            break\n",
    "        except StaleElementReferenceException:\n",
    "            print(index, \"is stale...\")\n",
    "    if page_selector is None:\n",
    "        continue\n",
    "\n",
    "    # For each page of the program results\n",
    "    for page in range(len(page_selector.options)):\n",
    "        print(page, end=\" - \")\n",
    "\n",
    "        # Select program results page \n",
    "        page_selector.select_by_index(page)\n",
    "\n",
    "        # Waits 1 second if page changed\n",
    "        if page > 0:\n",
    "            driver.implicitly_wait(1)\n",
    "            sleep(1)\n",
    "\n",
    "        # Get table data\n",
    "        while True:\n",
    "            try:\n",
    "                # Get table element after it has loaded and get outerHTML\n",
    "                table_element = WebDriverWait(driver, 3).until(\n",
    "                    ec.visibility_of_element_located((\n",
    "                        By.XPATH,\n",
    "                        '/html/body/form[2]/div/div[2]/div/div/div/span/span/span[2]/div/div/table'\n",
    "                    ))\n",
    "                ).get_attribute(\"outerHTML\")\n",
    "\n",
    "                # Parse outerHTML\n",
    "                table = bs(\n",
    "                    table_element,\n",
    "                    'html.parser'\n",
    "                )\n",
    "\n",
    "                # Load HTML table to a DataFrame\n",
    "                program_df = pd.read_html(str(table))[0]\n",
    "\n",
    "                # Add raw program info\n",
    "                program_df[\"programa\"] = program_info\n",
    "\n",
    "                # Concatenate new data to results DataFrame\n",
    "                professors_df = pd.concat([\n",
    "                    professors_df,\n",
    "                    program_df\n",
    "                ])\n",
    "                print(index, f\"was parsed! ({program_info}) -> {program_df.shape[0]}\")\n",
    "                break\n",
    "            except (NoSuchElementException, TimeoutException):\n",
    "                print(index, \"is empty...\")\n",
    "                break\n",
    "            except StaleElementReferenceException:\n",
    "                print(index, \"is stale...\")\n",
    "                break\n",
    "        continue\n",
    "    # Move page to the top\n",
    "    action.move_to_element(search_button)"
   ]
  },
  {
   "cell_type": "markdown",
   "metadata": {},
   "source": [
    "### 5) Closes WebDriver"
   ]
  },
  {
   "cell_type": "code",
   "execution_count": null,
   "metadata": {},
   "outputs": [],
   "source": [
    "# Close driver\n",
    "driver.close()"
   ]
  },
  {
   "cell_type": "markdown",
   "metadata": {},
   "source": [
    "## Data treatment"
   ]
  },
  {
   "cell_type": "code",
   "execution_count": null,
   "metadata": {},
   "outputs": [],
   "source": [
    "def extract_program(raw_program: str) -> list:\n",
    "    \"\"\"Extract program name and code from raw program info.\n",
    "\n",
    "    Args:\n",
    "        raw_program (str): Raw program information.\n",
    "\n",
    "    Returns:\n",
    "        list: A list of two elements: extracted name and code.\n",
    "    \"\"\"\n",
    "    # Extract program code\n",
    "    program_code = re.findall(\n",
    "        r'\\(\\d{11}P\\d\\)',\n",
    "        raw_program\n",
    "    )[0][1:-1]\n",
    "\n",
    "    # Extract program name\n",
    "    program_name = re.sub(\n",
    "        r'\\s\\s+',\n",
    "        ' ',\n",
    "        re.sub(\n",
    "            r'\\(\\d{11}P\\d\\)',\n",
    "            ' ',\n",
    "            raw_program\n",
    "        )\n",
    "    ).strip().upper().replace(\";\",\"\")\n",
    "\n",
    "    return [\n",
    "        program_name,\n",
    "        program_code\n",
    "    ]"
   ]
  },
  {
   "cell_type": "code",
   "execution_count": null,
   "metadata": {},
   "outputs": [],
   "source": [
    "# Drop row button column\n",
    "professors_df = professors_df.drop(\"Unnamed: 2\", axis = 1)\n",
    "\n",
    "# Rename columns\n",
    "professors_df = professors_df.rename(columns={\n",
    "    \"Docente\": \"docente\",\n",
    "    \"Categoria\": \"categoria\"\n",
    "})\n",
    "\n",
    "# Get extracted program data\n",
    "extracted_program = professors_df[\"programa\"].apply(extract_program)\n",
    "\n",
    "# Add extracted data to DataFrame\n",
    "professors_df[\"nome_do_programa\"] = list(map(lambda x: x[0], extracted_program))\n",
    "professors_df[\"codigo_do_programa\"] = list(map(lambda x: x[1], extracted_program))"
   ]
  },
  {
   "cell_type": "code",
   "execution_count": null,
   "metadata": {},
   "outputs": [],
   "source": [
    "# Export data\n",
    "date = dt.strftime(dt.today(), \"%d-%m-%Y_%Hh%M\")\n",
    "professors_df.to_excel(f\"./docentes_sucupira_{date}.xlsx\", index=False)\n",
    "professors_df.to_csv(f\"./docentes_sucupira_{date}.csv\", sep=\";\", index=False)"
   ]
  }
 ],
 "metadata": {
  "interpreter": {
   "hash": "11938c6bc6919ae2720b4d5011047913343b08a43b18698fd82dedb0d4417594"
  },
  "kernelspec": {
   "display_name": "Python 3.9.7 64-bit",
   "language": "python",
   "name": "python3"
  },
  "language_info": {
   "codemirror_mode": {
    "name": "ipython",
    "version": 3
   },
   "file_extension": ".py",
   "mimetype": "text/x-python",
   "name": "python",
   "nbconvert_exporter": "python",
   "pygments_lexer": "ipython3",
   "version": "3.9.7"
  },
  "orig_nbformat": 4
 },
 "nbformat": 4,
 "nbformat_minor": 2
}
